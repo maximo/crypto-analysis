{
  "nbformat": 4,
  "nbformat_minor": 0,
  "metadata": {
    "colab": {
      "name": "Messari-time-series.ipynb",
      "provenance": [],
      "authorship_tag": "ABX9TyMldH1BR72lGYt5ScQZDsTR",
      "include_colab_link": true
    },
    "kernelspec": {
      "name": "python3",
      "display_name": "Python 3"
    },
    "language_info": {
      "name": "python"
    }
  },
  "cells": [
    {
      "cell_type": "markdown",
      "metadata": {
        "id": "view-in-github",
        "colab_type": "text"
      },
      "source": [
        "<a href=\"https://colab.research.google.com/github/maximo/crypto-analysis/blob/main/Messari_time_series.ipynb\" target=\"_parent\"><img src=\"https://colab.research.google.com/assets/colab-badge.svg\" alt=\"Open In Colab\"/></a>"
      ]
    },
    {
      "cell_type": "code",
      "metadata": {
        "id": "3APDwxv2dfbz"
      },
      "source": [
        "import pandas as pd\n",
        "\n",
        "start = \"start=2020-12-01\"\n",
        "end = \"&end=2021-01-01\"\n",
        "columns = \"&columns=timestamp,close,volume\"\n",
        "interval = \"&interval=1d\"\n",
        "url = \"https://data.messari.io/api/v1/assets/eth/metrics/price/time-series?\" + start + end + interval + \"&format=csv\"\n",
        "\n",
        "pd.set_option(\"display.max_columns\", None)\n",
        "df = pd.read_csv(url)\n",
        "\n",
        "# format timestamp to YYYY-MM-DD\n",
        "df['timestamp'] = pd.to_datetime(df['timestamp']).dt.strftime('%Y-%m-%d')"
      ],
      "execution_count": 1,
      "outputs": []
    },
    {
      "cell_type": "code",
      "metadata": {
        "colab": {
          "base_uri": "https://localhost:8080/"
        },
        "id": "J_abx7SodoZC",
        "outputId": "327de958-cbcc-4836-97dd-4124c881823d"
      },
      "source": [
        "# display number of rows and columns in the dataset\n",
        "df.shape"
      ],
      "execution_count": 2,
      "outputs": [
        {
          "output_type": "execute_result",
          "data": {
            "text/plain": [
              "(32, 6)"
            ]
          },
          "metadata": {
            "tags": []
          },
          "execution_count": 2
        }
      ]
    },
    {
      "cell_type": "code",
      "metadata": {
        "colab": {
          "base_uri": "https://localhost:8080/",
          "height": 297
        },
        "id": "-z5fIgkBdsG8",
        "outputId": "1e1dc626-f42a-4f28-f15f-ad202546b4ad"
      },
      "source": [
        "#metrics on the dataset\n",
        "df.describe()"
      ],
      "execution_count": 4,
      "outputs": [
        {
          "output_type": "execute_result",
          "data": {
            "text/html": [
              "<div>\n",
              "<style scoped>\n",
              "    .dataframe tbody tr th:only-of-type {\n",
              "        vertical-align: middle;\n",
              "    }\n",
              "\n",
              "    .dataframe tbody tr th {\n",
              "        vertical-align: top;\n",
              "    }\n",
              "\n",
              "    .dataframe thead th {\n",
              "        text-align: right;\n",
              "    }\n",
              "</style>\n",
              "<table border=\"1\" class=\"dataframe\">\n",
              "  <thead>\n",
              "    <tr style=\"text-align: right;\">\n",
              "      <th></th>\n",
              "      <th>open</th>\n",
              "      <th>high</th>\n",
              "      <th>low</th>\n",
              "      <th>close</th>\n",
              "      <th>volume</th>\n",
              "    </tr>\n",
              "  </thead>\n",
              "  <tbody>\n",
              "    <tr>\n",
              "      <th>count</th>\n",
              "      <td>32.000000</td>\n",
              "      <td>32.000000</td>\n",
              "      <td>32.000000</td>\n",
              "      <td>32.000000</td>\n",
              "      <td>3.200000e+01</td>\n",
              "    </tr>\n",
              "    <tr>\n",
              "      <th>mean</th>\n",
              "      <td>622.291812</td>\n",
              "      <td>642.860729</td>\n",
              "      <td>600.390544</td>\n",
              "      <td>625.805383</td>\n",
              "      <td>2.084563e+09</td>\n",
              "    </tr>\n",
              "    <tr>\n",
              "      <th>std</th>\n",
              "      <td>54.687381</td>\n",
              "      <td>57.754525</td>\n",
              "      <td>54.152917</td>\n",
              "      <td>57.964246</td>\n",
              "      <td>1.022157e+09</td>\n",
              "    </tr>\n",
              "    <tr>\n",
              "      <th>min</th>\n",
              "      <td>544.906332</td>\n",
              "      <td>560.765260</td>\n",
              "      <td>530.048223</td>\n",
              "      <td>544.497093</td>\n",
              "      <td>9.343508e+08</td>\n",
              "    </tr>\n",
              "    <tr>\n",
              "      <th>25%</th>\n",
              "      <td>586.378554</td>\n",
              "      <td>597.464899</td>\n",
              "      <td>563.258441</td>\n",
              "      <td>586.269982</td>\n",
              "      <td>1.408341e+09</td>\n",
              "    </tr>\n",
              "    <tr>\n",
              "      <th>50%</th>\n",
              "      <td>610.333540</td>\n",
              "      <td>635.382702</td>\n",
              "      <td>584.021714</td>\n",
              "      <td>609.977027</td>\n",
              "      <td>1.858415e+09</td>\n",
              "    </tr>\n",
              "    <tr>\n",
              "      <th>75%</th>\n",
              "      <td>639.373350</td>\n",
              "      <td>666.243237</td>\n",
              "      <td>624.040297</td>\n",
              "      <td>645.718979</td>\n",
              "      <td>2.258266e+09</td>\n",
              "    </tr>\n",
              "    <tr>\n",
              "      <th>max</th>\n",
              "      <td>752.356509</td>\n",
              "      <td>758.309079</td>\n",
              "      <td>721.463760</td>\n",
              "      <td>752.412845</td>\n",
              "      <td>4.715926e+09</td>\n",
              "    </tr>\n",
              "  </tbody>\n",
              "</table>\n",
              "</div>"
            ],
            "text/plain": [
              "             open        high         low       close        volume\n",
              "count   32.000000   32.000000   32.000000   32.000000  3.200000e+01\n",
              "mean   622.291812  642.860729  600.390544  625.805383  2.084563e+09\n",
              "std     54.687381   57.754525   54.152917   57.964246  1.022157e+09\n",
              "min    544.906332  560.765260  530.048223  544.497093  9.343508e+08\n",
              "25%    586.378554  597.464899  563.258441  586.269982  1.408341e+09\n",
              "50%    610.333540  635.382702  584.021714  609.977027  1.858415e+09\n",
              "75%    639.373350  666.243237  624.040297  645.718979  2.258266e+09\n",
              "max    752.356509  758.309079  721.463760  752.412845  4.715926e+09"
            ]
          },
          "metadata": {
            "tags": []
          },
          "execution_count": 4
        }
      ]
    },
    {
      "cell_type": "code",
      "metadata": {
        "colab": {
          "base_uri": "https://localhost:8080/"
        },
        "id": "ZlTGD23yeJjE",
        "outputId": "0ce99086-1119-40dd-a33a-7bcb62025ae0"
      },
      "source": [
        "df.dtypes"
      ],
      "execution_count": 6,
      "outputs": [
        {
          "output_type": "execute_result",
          "data": {
            "text/plain": [
              "timestamp     object\n",
              "open         float64\n",
              "high         float64\n",
              "low          float64\n",
              "close        float64\n",
              "volume       float64\n",
              "dtype: object"
            ]
          },
          "metadata": {
            "tags": []
          },
          "execution_count": 6
        }
      ]
    },
    {
      "cell_type": "code",
      "metadata": {
        "colab": {
          "base_uri": "https://localhost:8080/",
          "height": 343
        },
        "id": "qrU6-7YDd0E5",
        "outputId": "3490bff7-79e5-4fb2-c334-6088bdb8c76e"
      },
      "source": [
        "import matplotlib.pyplot as plt\n",
        "\n",
        "ax = df.plot(x=\"timestamp\", y=\"close\", color=\"magenta\")\n",
        "ax.set_ylabel(\"price\", color=\"magenta\")\n",
        "ax2 = df.plot(x=\"timestamp\", y=\"volume\", kind=\"bar\", secondary_y=True, ax=ax)\n",
        "ax2.set_ylabel(\"volume\", color=\"blue\")\n",
        "\n",
        "plt.title(\"Bitcoin price and volume over time\")\n",
        "plt.show()"
      ],
      "execution_count": 5,
      "outputs": [
        {
          "output_type": "display_data",
          "data": {
            "image/png": "[encoded data removed]",
            "text/plain": [
              "<Figure size 432x288 with 2 Axes>"
            ]
          },
          "metadata": {
            "tags": [],
            "needs_background": "light"
          }
        }
      ]
    }
  ]
}