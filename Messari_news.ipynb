{
  "nbformat": 4,
  "nbformat_minor": 0,
  "metadata": {
    "colab": {
      "name": "Messari_API.ipynb",
      "provenance": [],
      "collapsed_sections": [],
      "authorship_tag": "ABX9TyO1ys3hc7Vw3LnWK9/Kxc3S",
      "include_colab_link": true
    },
    "kernelspec": {
      "name": "python3",
      "display_name": "Python 3"
    },
    "language_info": {
      "name": "python"
    }
  },
  "cells": [
    {
      "cell_type": "markdown",
      "metadata": {
        "id": "view-in-github",
        "colab_type": "text"
      },
      "source": [
        "<a href=\"https://colab.research.google.com/github/maximo/crypto-analysis/blob/main/Messari_news.ipynb\" target=\"_parent\"><img src=\"https://colab.research.google.com/assets/colab-badge.svg\" alt=\"Open In Colab\"/></a>"
      ]
    },
    {
      "cell_type": "code",
      "metadata": {
        "id": "u1Fo0-lVdTyG"
      },
      "source": [
        "# news for specific asset (i.e. bitcoin)\n",
        "# documentation: https://messari.io/api/docs#operation/Get%20Market%20timeseries\n",
        "import requests\n",
        "\n",
        "url = \"https://data.messari.io/api/v1/news/btc?fields=title\"\n",
        "\n",
        "data = {}\n",
        "\n",
        "try:\n",
        "  response = requests.get(url)\n",
        "  response.raise_for_status()\n",
        "  data = response.json()\n",
        "except HTTPError as http_err:\n",
        "  print(\"HTTP error: {http_err}\")\n",
        "except Exception as e:\n",
        "  print(\"Error: {e}\")"
      ],
      "execution_count": 33,
      "outputs": []
    },
    {
      "cell_type": "code",
      "metadata": {
        "colab": {
          "base_uri": "https://localhost:8080/",
          "height": 359
        },
        "id": "qe0tuGS7ocLh",
        "outputId": "be30131b-66ce-4342-877a-b0f646593df7"
      },
      "source": [
        "import pandas as pd\n",
        "\n",
        "#print(data)\n",
        "df = pd.json_normalize(data, record_path=['data'])\n",
        "df.head(10)"
      ],
      "execution_count": 34,
      "outputs": [
        {
          "output_type": "execute_result",
          "data": {
            "text/html": [
              "<div>\n",
              "<style scoped>\n",
              "    .dataframe tbody tr th:only-of-type {\n",
              "        vertical-align: middle;\n",
              "    }\n",
              "\n",
              "    .dataframe tbody tr th {\n",
              "        vertical-align: top;\n",
              "    }\n",
              "\n",
              "    .dataframe thead th {\n",
              "        text-align: right;\n",
              "    }\n",
              "</style>\n",
              "<table border=\"1\" class=\"dataframe\">\n",
              "  <thead>\n",
              "    <tr style=\"text-align: right;\">\n",
              "      <th></th>\n",
              "      <th>title</th>\n",
              "    </tr>\n",
              "  </thead>\n",
              "  <tbody>\n",
              "    <tr>\n",
              "      <th>0</th>\n",
              "      <td>Messari Daily Brief Feb. 12, 2021 - Bigger tha...</td>\n",
              "    </tr>\n",
              "    <tr>\n",
              "      <th>1</th>\n",
              "      <td>Messari Daily Brief Feb. 8, 2021 - What's Next?</td>\n",
              "    </tr>\n",
              "    <tr>\n",
              "      <th>2</th>\n",
              "      <td>Messari Daily Brief Feb. 5, 2021 - Buy Don't Ban</td>\n",
              "    </tr>\n",
              "    <tr>\n",
              "      <th>3</th>\n",
              "      <td>Messari Daily Brief Jan. 29, 2021 - User-Gener...</td>\n",
              "    </tr>\n",
              "    <tr>\n",
              "      <th>4</th>\n",
              "      <td>Messari Daily Brief Jan. 28, 2021 - Crypto’s N...</td>\n",
              "    </tr>\n",
              "    <tr>\n",
              "      <th>5</th>\n",
              "      <td>Messari Daily Brief Jan. 26, 2021 - Show me yo...</td>\n",
              "    </tr>\n",
              "    <tr>\n",
              "      <th>6</th>\n",
              "      <td>Messari Daily Brief Jan. 25, 2021 - Record Growth</td>\n",
              "    </tr>\n",
              "    <tr>\n",
              "      <th>7</th>\n",
              "      <td>Messari Daily Brief Jan. 22, 2021 - R-E-L-A-X</td>\n",
              "    </tr>\n",
              "    <tr>\n",
              "      <th>8</th>\n",
              "      <td>Messari Daily Brief Jan. 15, 2021 - Nocoiner R...</td>\n",
              "    </tr>\n",
              "    <tr>\n",
              "      <th>9</th>\n",
              "      <td>Messari Daily Brief Jan. 8, 2021</td>\n",
              "    </tr>\n",
              "  </tbody>\n",
              "</table>\n",
              "</div>"
            ],
            "text/plain": [
              "                                               title\n",
              "0  Messari Daily Brief Feb. 12, 2021 - Bigger tha...\n",
              "1    Messari Daily Brief Feb. 8, 2021 - What's Next?\n",
              "2   Messari Daily Brief Feb. 5, 2021 - Buy Don't Ban\n",
              "3  Messari Daily Brief Jan. 29, 2021 - User-Gener...\n",
              "4  Messari Daily Brief Jan. 28, 2021 - Crypto’s N...\n",
              "5  Messari Daily Brief Jan. 26, 2021 - Show me yo...\n",
              "6  Messari Daily Brief Jan. 25, 2021 - Record Growth\n",
              "7      Messari Daily Brief Jan. 22, 2021 - R-E-L-A-X\n",
              "8  Messari Daily Brief Jan. 15, 2021 - Nocoiner R...\n",
              "9                   Messari Daily Brief Jan. 8, 2021"
            ]
          },
          "metadata": {
            "tags": []
          },
          "execution_count": 34
        }
      ]
    },
    {
      "cell_type": "code",
      "metadata": {
        "colab": {
          "base_uri": "https://localhost:8080/"
        },
        "id": "_ovD77wKr15T",
        "outputId": "e0f005d7-58a6-49b6-b3f6-87d26712b72b"
      },
      "source": [
        "df.count()"
      ],
      "execution_count": 35,
      "outputs": [
        {
          "output_type": "execute_result",
          "data": {
            "text/plain": [
              "title    20\n",
              "dtype: int64"
            ]
          },
          "metadata": {
            "tags": []
          },
          "execution_count": 35
        }
      ]
    }
  ]
}